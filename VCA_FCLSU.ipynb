{
  "nbformat": 4,
  "nbformat_minor": 0,
  "metadata": {
    "colab": {
      "provenance": [],
      "collapsed_sections": [],
      "authorship_tag": "ABX9TyPtuTTCPUwSNZx65jEwscaj",
      "include_colab_link": true
    },
    "kernelspec": {
      "name": "python3",
      "display_name": "Python 3"
    },
    "language_info": {
      "name": "python"
    }
  },
  "cells": [
    {
      "cell_type": "markdown",
      "metadata": {
        "id": "view-in-github",
        "colab_type": "text"
      },
      "source": [
        "<a href=\"https://colab.research.google.com/github/BehnoodRasti/Unmixing_Tutorial_IEEE_IADF/blob/main/VCA_FCLSU.ipynb\" target=\"_parent\"><img src=\"https://colab.research.google.com/assets/colab-badge.svg\" alt=\"Open In Colab\"/></a>"
      ]
    },
    {
      "cell_type": "markdown",
      "source": [
        "# Supervised Unmixing\n",
        "\n",
        "Supervised unmixing baseline using VCA for endmembers extraction and FCLSU for abundances estimation.\n",
        "\n",
        "---\n",
        "\n",
        "## Imports\n",
        "\n",
        "1. Clone tutorial repository.\n",
        "2. Install required Python packages.\n",
        "3. Import Python packages."
      ],
      "metadata": {
        "id": "4bie69zvLSFB"
      }
    },
    {
      "cell_type": "code",
      "source": [
        "!git clone https://github.com/BehnoodRasti/Unmixing_Tutorial_IEEE_IADF.git"
      ],
      "metadata": {
        "id": "5PJ0jDzx2zlz"
      },
      "execution_count": null,
      "outputs": []
    },
    {
      "cell_type": "code",
      "source": [
        "!pip install munkres"
      ],
      "metadata": {
        "id": "2Ne7k0hTM66Q"
      },
      "execution_count": null,
      "outputs": []
    },
    {
      "cell_type": "code",
      "source": [
        "import time\n",
        "import os\n",
        "\n",
        "import matplotlib.pyplot as plt\n",
        "import scipy.io as sio\n",
        "import numpy as np\n",
        "import numpy.linalg as LA\n",
        "from cvxopt import matrix, solvers\n",
        "\n",
        "from munkres import Munkres"
      ],
      "metadata": {
        "id": "CX37PkjvKFXy"
      },
      "execution_count": null,
      "outputs": []
    },
    {
      "cell_type": "code",
      "source": [
        "from Unmixing_Tutorial_IEEE_IADF.utils.data import HSI\n",
        "from Unmixing_Tutorial_IEEE_IADF.utils.metrics import MeanSquareError as MSE\n",
        "from Unmixing_Tutorial_IEEE_IADF.utils.metrics import aRMSE as RMSE\n",
        "from Unmixing_Tutorial_IEEE_IADF.utils.metrics import SADDegrees as SAD \n",
        "from Unmixing_Tutorial_IEEE_IADF.utils.aligners import MunkresAbundancesAligner as Aligner"
      ],
      "metadata": {
        "id": "Ohcat-Fs3LMS"
      },
      "execution_count": null,
      "outputs": []
    },
    {
      "cell_type": "markdown",
      "source": [
        "## Data\n",
        "\n",
        "---\n",
        "\n",
        "Download datasets archive and unzip them in the main directory."
      ],
      "metadata": {
        "id": "sRNAyt4ML6dK"
      }
    },
    {
      "cell_type": "code",
      "source": [
        "!wget http://pascal.inrialpes.fr/data2/azouaoui/data.zip && unzip data.zip"
      ],
      "metadata": {
        "id": "FP7Dpq_fL70W"
      },
      "execution_count": null,
      "outputs": []
    },
    {
      "cell_type": "markdown",
      "source": [
        "Create a HSI data object."
      ],
      "metadata": {
        "id": "lthUGSyE3v4r"
      }
    },
    {
      "cell_type": "code",
      "source": [
        "hsi = HSI(\"TinyAPEX.mat\")\n",
        "print(hsi)\n",
        "hsi.plot_endmembers()\n",
        "hsi.plot_abundances()"
      ],
      "metadata": {
        "id": "rJxHhe2m2_Ta"
      },
      "execution_count": null,
      "outputs": []
    },
    {
      "cell_type": "markdown",
      "source": [
        "## Endmembers extraction\n",
        "\n",
        "---\n",
        "\n",
        "The following code provides several endmembers initialization methods including `VCA`."
      ],
      "metadata": {
        "id": "Ed4v2tdTLpYZ"
      }
    },
    {
      "cell_type": "code",
      "source": [
        "class BaseInit:\n",
        "    def __init__(self):\n",
        "        self.seed = None\n",
        "\n",
        "    def init_like(self, hsi, seed=0):\n",
        "        return NotImplementedError\n",
        "\n",
        "    def __repr__(self):\n",
        "        msg = f\"{self.__class__.__name__}_seed{self.seed}\"\n",
        "        return msg\n",
        "\n",
        "\n",
        "class TrueEndmembers(BaseInit):\n",
        "    def __init__(self):\n",
        "        super().__init__()\n",
        "\n",
        "    def init_like(self, hsi, **kwargs):\n",
        "        return hsi.E\n",
        "\n",
        "\n",
        "class RandomPositiveMatrix(BaseInit):\n",
        "    def __init__(self):\n",
        "        super().__init__()\n",
        "\n",
        "    def init_like(self, hsi, seed=0):\n",
        "        self.seed = seed\n",
        "        generator = np.random.RandomState(seed=self.seed)\n",
        "        return generator.rand(hsi.L, hsi.p)\n",
        "\n",
        "\n",
        "class RandomPixels(BaseInit):\n",
        "    def __init__(self):\n",
        "        super().__init__()\n",
        "\n",
        "    def init_like(self, hsi, seed=0):\n",
        "        self.seed = seed\n",
        "        generator = np.random.RandomState(seed=self.seed)\n",
        "        indices = generator.randint(0, high=hsi.N - 1, size=hsi.p)\n",
        "        print(f\"Indices randomly chosen: {indices}\")\n",
        "        pixels = hsi.Y[:, indices]\n",
        "        assert pixels.shape == hsi.E.shape\n",
        "        return pixels\n",
        "\n",
        "\n",
        "class VCA(BaseInit):\n",
        "    def __init__(self):\n",
        "        super().__init__()\n",
        "\n",
        "    def init_like(self, hsi, seed=0, snr_input=0):\n",
        "        \"\"\"\n",
        "        Vertex Component Analysis\n",
        "        ------- Input variables -------------\n",
        "        HSI containing the following variables =>\n",
        "         Y - matrix with dimensions L(channels) x N(pixels)\n",
        "             each pixel is a linear mixture of R endmembers\n",
        "             signatures Y = M x s, where s = gamma x alfa\n",
        "             gamma is a illumination perturbation factor and\n",
        "             alfa are the abundance fractions of each endmember.\n",
        "         p - positive integer number of endmembers in the scene\n",
        "        ------- Output variables -----------\n",
        "        E     - estimated mixing matrix (endmembers signatures)\n",
        "        ------- Optional parameters---------\n",
        "        snr_input - (float) signal to noise ratio (dB)\n",
        "        ------------------------------------\n",
        "        Author: Adrien Lagrange (adrien.lagrange@enseeiht.fr)\n",
        "        This code is a translation of a matlab code provided by\n",
        "        Jose Nascimento (zen@isel.pt) and Jose Bioucas Dias (bioucas@lx.it.pt)\n",
        "        available at http://www.lx.it.pt/~bioucas/code.htm under a non-specified Copyright (c)\n",
        "        Translation of last version at 22-February-2018 (Matlab version 2.1 (7-May-2004))\n",
        "        more details on:\n",
        "        Jose M. P. Nascimento and Jose M. B. Dias\n",
        "        \"Vertex Component Analysis: A Fast Algorithm to Unmix Hyperspectral Data\"\n",
        "        submited to IEEE Trans. Geosci. Remote Sensing, vol. .., no. .., pp. .-., 2004\n",
        "        \"\"\"\n",
        "        Y = hsi.Y\n",
        "        N, p = hsi.N, hsi.p\n",
        "        self.seed = seed\n",
        "        generator = np.random.RandomState(seed=seed)\n",
        "\n",
        "        #############################################\n",
        "        # SNR Estimates\n",
        "        #############################################\n",
        "\n",
        "        if snr_input == 0:\n",
        "            y_m = np.mean(Y, axis=1, keepdims=True)\n",
        "            Y_o = Y - y_m  # data with zero-mean\n",
        "            Ud = LA.svd(np.dot(Y_o, Y_o.T) / float(N))[0][\n",
        "                :, :p\n",
        "            ]  # computes the R-projection matrix\n",
        "            x_p = np.dot(Ud.T, Y_o)  # project the zero-mean data onto p-subspace\n",
        "\n",
        "            SNR = self.estimate_snr(Y, y_m, x_p)\n",
        "\n",
        "            print(f\"SNR estimated = {SNR:.2f}[dB]\")\n",
        "        else:\n",
        "            SNR = snr_input\n",
        "            print(f\"input SNR = {SNR:.2f}[dB]\\n\")\n",
        "\n",
        "        SNR_th = 15 + 10 * np.log10(p)\n",
        "        #############################################\n",
        "        # Choosing Projective Projection or\n",
        "        #          projection to p-1 subspace\n",
        "        #############################################\n",
        "\n",
        "        if SNR < SNR_th:\n",
        "            print(\"... Select proj. to R-1\")\n",
        "\n",
        "            d = p - 1\n",
        "            if snr_input == 0:  # it means that the projection is already computed\n",
        "                Ud = Ud[:, :d]\n",
        "            else:\n",
        "                y_m = np.mean(Y, axis=1, keepdims=True)\n",
        "                Y_o = Y - y_m  # data with zero-mean\n",
        "\n",
        "                Ud = LA.svd(np.dot(Y_o, Y_o.T) / float(N))[0][\n",
        "                    :, :d\n",
        "                ]  # computes the p-projection matrix\n",
        "                x_p = np.dot(Ud.T, Y_o)  # project thezeros mean data onto p-subspace\n",
        "\n",
        "            Yp = np.dot(Ud, x_p[:d, :]) + y_m  # again in dimension L\n",
        "\n",
        "            x = x_p[:d, :]  #  x_p =  Ud.T * Y_o is on a R-dim subspace\n",
        "            c = np.amax(np.sum(x ** 2, axis=0)) ** 0.5\n",
        "            y = np.vstack((x, c * np.ones((1, N))))\n",
        "        else:\n",
        "            print(\"... Select the projective proj.\")\n",
        "\n",
        "            d = p\n",
        "            Ud = LA.svd(np.dot(Y, Y.T) / float(N))[0][\n",
        "                :, :d\n",
        "            ]  # computes the p-projection matrix\n",
        "\n",
        "            x_p = np.dot(Ud.T, Y)\n",
        "            Yp = np.dot(\n",
        "                Ud, x_p[:d, :]\n",
        "            )  # again in dimension L (note that x_p has no null mean)\n",
        "\n",
        "            x = np.dot(Ud.T, Y)\n",
        "            u = np.mean(x, axis=1, keepdims=True)  # equivalent to  u = Ud.T * r_m\n",
        "            y = x / np.dot(u.T, x)\n",
        "\n",
        "        #############################################\n",
        "        # VCA algorithm\n",
        "        #############################################\n",
        "\n",
        "        indices = np.zeros((p), dtype=int)\n",
        "        A = np.zeros((p, p))\n",
        "        A[-1, 0] = 1\n",
        "\n",
        "        for i in range(p):\n",
        "            w = generator.rand(p, 1)\n",
        "            f = w - np.dot(A, np.dot(LA.pinv(A), w))\n",
        "            f = f / np.linalg.norm(f)\n",
        "\n",
        "            v = np.dot(f.T, y)\n",
        "\n",
        "            indices[i] = np.argmax(np.absolute(v))\n",
        "            A[:, i] = y[:, indices[i]]  # same as x(:,indice(i))\n",
        "\n",
        "        E = Yp[:, indices]\n",
        "\n",
        "        print(f\"Indices chosen to be the most pure: {indices}\")\n",
        "        self.indices = indices\n",
        "\n",
        "        return E\n",
        "\n",
        "    @staticmethod\n",
        "    def estimate_snr(Y, r_m, x):\n",
        "        L, N = Y.shape  # L number of bands (channels), N number of pixels\n",
        "        p, N = x.shape  # p number of endmembers (reduced dimension)\n",
        "\n",
        "        P_y = np.sum(Y ** 2) / float(N)\n",
        "        P_x = np.sum(x ** 2) / float(N) + np.sum(r_m ** 2)\n",
        "        snr_est = 10 * np.log10((P_x - p / L * P_y) / (P_y - P_x))\n",
        "\n",
        "        return snr_est"
      ],
      "metadata": {
        "id": "lclmth7BK5YU"
      },
      "execution_count": null,
      "outputs": []
    },
    {
      "cell_type": "markdown",
      "source": [
        "## Abundances estimation\n",
        "\n",
        "---\n",
        "\n",
        "The following code provides the `FCLSU` method implementation for abundances estimation given a set of endmembers (supervised unmixing)."
      ],
      "metadata": {
        "id": "lxr4etr5LPHi"
      }
    },
    {
      "cell_type": "code",
      "source": [
        "class FCLSU:\n",
        "    def __init__(self):\n",
        "        pass\n",
        "\n",
        "    def __repr__(self):\n",
        "        msg = f\"{self.__class__.__name__}\"\n",
        "        return msg\n",
        "\n",
        "    @staticmethod\n",
        "    def _numpy_None_vstack(A1, A2):\n",
        "        if A1 is None:\n",
        "            return A2\n",
        "        else:\n",
        "            return np.vstack([A1, A2])\n",
        "\n",
        "    @staticmethod\n",
        "    def _numpy_None_concatenate(A1, A2):\n",
        "        if A1 is None:\n",
        "            return A2\n",
        "        else:\n",
        "            return np.concatenate([A1, A2])\n",
        "\n",
        "    @staticmethod\n",
        "    def _numpy_to_cvxopt_matrix(A):\n",
        "        A = np.array(A, dtype=np.float64)\n",
        "        if A.ndim == 1:\n",
        "            return matrix(A, (A.shape[0], 1), \"d\")\n",
        "        else:\n",
        "            return matrix(A, A.shape, \"d\")\n",
        "\n",
        "    def solve(self, Y, E):\n",
        "        \"\"\"\n",
        "        Performs fully constrained least squares of each pixel in M\n",
        "        using the endmember signatures of U. Fully constrained least squares\n",
        "        is least squares with the abundance sum-to-one constraint (ASC) and the\n",
        "        abundance nonnegative constraint (ANC).\n",
        "        Parameters:\n",
        "            Y: `numpy array`\n",
        "                2D data matrix (L x N).\n",
        "            E: `numpy array`\n",
        "                2D matrix of endmembers (L x p).\n",
        "        Returns:\n",
        "            X: `numpy array`\n",
        "                2D abundance maps (p x N).\n",
        "        References:\n",
        "            Daniel Heinz, Chein-I Chang, and Mark L.G. Fully Constrained\n",
        "            Least-Squares Based Linear Unmixing. Althouse. IEEE. 1999.\n",
        "        Notes:\n",
        "            Three sources have been useful to build the algorithm:\n",
        "                * The function hyperFclsMatlab, part of the Matlab Hyperspectral\n",
        "                Toolbox of Isaac Gerg.\n",
        "                * The Matlab (tm) help on lsqlin.\n",
        "                * And the Python implementation of lsqlin by Valera Vishnevskiy, click:\n",
        "                http://maggotroot.blogspot.ca/2013/11/constrained-linear-least-squares-in.html\n",
        "                , it's great code.\n",
        "        \"\"\"\n",
        "        tic = time.time()\n",
        "        assert len(Y.shape) == 2\n",
        "        assert len(E.shape) == 2\n",
        "\n",
        "        L1, N = Y.shape\n",
        "        L2, p = E.shape\n",
        "\n",
        "        assert L1 == L2\n",
        "\n",
        "        # Reshape to match implementation\n",
        "        M = np.copy(Y.T)\n",
        "        U = np.copy(E.T)\n",
        "\n",
        "        solvers.options[\"show_progress\"] = False\n",
        "\n",
        "        U = U.astype(np.double)\n",
        "\n",
        "        C = self._numpy_to_cvxopt_matrix(U.T)\n",
        "        Q = C.T * C\n",
        "\n",
        "        lb_A = -np.eye(p)\n",
        "        lb = np.repeat(0, p)\n",
        "        A = self._numpy_None_vstack(None, lb_A)\n",
        "        b = self._numpy_None_concatenate(None, -lb)\n",
        "        A = self._numpy_to_cvxopt_matrix(A)\n",
        "        b = self._numpy_to_cvxopt_matrix(b)\n",
        "\n",
        "        Aeq = self._numpy_to_cvxopt_matrix(np.ones((1, p)))\n",
        "        beq = self._numpy_to_cvxopt_matrix(np.ones(1))\n",
        "\n",
        "        M = np.array(M, dtype=np.float64)\n",
        "        M = M.astype(np.double)\n",
        "        X = np.zeros((N, p), dtype=np.float32)\n",
        "        for n1 in range(N):\n",
        "            d = matrix(M[n1], (L1, 1), \"d\")\n",
        "            q = -d.T * C\n",
        "            sol = solvers.qp(Q, q.T, A, b, Aeq, beq, None, None)[\"x\"]\n",
        "            X[n1] = np.array(sol).squeeze()\n",
        "        tac = time.time()\n",
        "        print(f\"{self} took {tac - tic:.2f}s\")\n",
        "        return X.T"
      ],
      "metadata": {
        "id": "SpceZoq5KPLZ"
      },
      "execution_count": null,
      "outputs": []
    },
    {
      "cell_type": "markdown",
      "source": [
        "## Main pipeline\n",
        "\n",
        "---"
      ],
      "metadata": {
        "id": "azB2GmmuEzo5"
      }
    },
    {
      "cell_type": "code",
      "source": [
        "# Instantiate objects\n",
        "extractor = VCA()\n",
        "#extractor = TrueEndmembers()\n",
        "#extractor = RandomPixels()\n",
        "model = FCLSU()\n",
        "hsi = HSI(\"TinyAPEX.mat\")\n",
        "    \n",
        "# Endmembers extraction\n",
        "E0 = extractor.init_like(hsi, seed=0)\n",
        "\n",
        "# Call data to return HSI\n",
        "Y, _, _ = hsi()\n",
        "\n",
        "# Abundances estimation\n",
        "A0 = model.solve(Y, E0)\n",
        "\n",
        "# Plot results\n",
        "hsi.plot_endmembers(E0=E0)\n",
        "hsi.plot_abundances(A0=A0)"
      ],
      "metadata": {
        "id": "QWSvyr8yE_l7"
      },
      "execution_count": null,
      "outputs": []
    },
    {
      "cell_type": "markdown",
      "source": [
        "## Endmembers alignment\n",
        "\n",
        "At this stage we need to align the endmembers and the abundances to compute the RMSE and SAD metrics."
      ],
      "metadata": {
        "id": "uWOPZ1QpL_-l"
      }
    },
    {
      "cell_type": "code",
      "source": [
        "# Select a criterion to perform alignment\n",
        "criterion = MSE()\n",
        "\n",
        "# Select an aligner to perform alignment\n",
        "aligner = Aligner(hsi=hsi, criterion=criterion)\n",
        "\n",
        "A1 = aligner.fit_transform(A0)\n",
        "E1 = aligner.transform_endmembers(E0)\n",
        "\n",
        "# Plot alignment\n",
        "hsi.plot_endmembers(E0=E1)\n",
        "hsi.plot_abundances(A0=A1)"
      ],
      "metadata": {
        "id": "xNeYyXdR1PDT"
      },
      "execution_count": null,
      "outputs": []
    },
    {
      "cell_type": "markdown",
      "source": [
        "Notice how the materials were swapped."
      ],
      "metadata": {
        "id": "heoFtv7dPdtW"
      }
    },
    {
      "cell_type": "markdown",
      "source": [
        "## Quantitative results\n",
        "\n",
        "---\n",
        "\n",
        "We are now in shape to compute the abundances RMSE and endmembers SAD."
      ],
      "metadata": {
        "id": "Gbp5kxdIPOZb"
      }
    },
    {
      "cell_type": "code",
      "source": [
        "# Instantiate metrics\n",
        "rmse = RMSE()\n",
        "sad = SAD()\n",
        "\n",
        "# Compute final numbers\n",
        "print(f\"RMSE => {rmse(hsi.A, A1):.2f}\")\n",
        "print(f\"SAD => {sad(hsi.E, E1):.2f}\")"
      ],
      "metadata": {
        "id": "WHm4udqhO0eU"
      },
      "execution_count": null,
      "outputs": []
    }
  ]
}